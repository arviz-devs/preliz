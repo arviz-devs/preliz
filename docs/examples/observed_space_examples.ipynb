{
 "cells": [
  {
   "attachments": {},
   "cell_type": "markdown",
   "id": "57b77d9c",
   "metadata": {},
   "source": [
    "# Predictive elicitation\n",
    "\n",
    "The examples below can be executed from within this page thanks to embedded integration with Binder via Thebe.\n",
    "Click on the button below and start playing with PreliZ right from your browser or open this notebook or Binder directly [![badge](https://img.shields.io/badge/launch-binder-579ACA.svg?logo=data:image/png;base64,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)](https://mybinder.org/v2/gh/arviz-devs/arviz_sandbox/main?urlpath=git-pull%3Frepo%3Dhttps%253A%252F%252Fgithub.com%252Farviz-devs%252Fpreliz%26urlpath%3Dtree%252Fpreliz%252Fdocs%252Fexamples%252Fobserved_space_examples.ipynb%26branch%3Dmain)\n",
    "\n",
    "\n",
    ":::{thebe-button}\n",
    ":::"
   ]
  },
  {
   "cell_type": "code",
   "execution_count": 1,
   "id": "bf0abcdd",
   "metadata": {},
   "outputs": [],
   "source": [
    "# latest PreliZ might not be installed\n",
    "import sys\n",
    "\n",
    "!{sys.executable} -m pip install preliz@git+https://github.com/arviz-devs/preliz.git"
   ]
  },
  {
   "cell_type": "code",
   "execution_count": 6,
   "id": "7bc77dc5",
   "metadata": {},
   "outputs": [],
   "source": [
    "import arviz as az\n",
    "import preliz as pz\n",
    "import numpy as np"
   ]
  },
  {
   "cell_type": "code",
   "execution_count": 7,
   "id": "1b1c8771",
   "metadata": {},
   "outputs": [],
   "source": [
    "az.style.use(\"arviz-white\")"
   ]
  },
  {
   "cell_type": "markdown",
   "id": "a114f7ed",
   "metadata": {},
   "source": [
    "Predictive elicitation refers to the elicitation of priors by making evaluations on the observed space, instead of a the parameters space. The advantage of the former is that generally it is easier to thing about observation than parameters, specially for domain experts. If you are a Forest engineer, you may be more familiar with the expected rate of wildfires in an area than with the `rho` parameter of a model.\n",
    "\n",
    "Currently PreliZ provides two functions for predictive elicitation. Most of the future development of PreliZ will be focused on improving these tool and providing other tools for predictive elicitation."
   ]
  },
  {
   "attachments": {},
   "cell_type": "markdown",
   "id": "1bc44054",
   "metadata": {},
   "source": [
    "(predictive_sliders)=\n",
    "\n",
    "## Predictive sliders\n",
    "\n",
    "This functions will automatically generate sliders for a function with makes easier to explore how the prior predictive distribution changes when we change the priors.\n",
    "\n",
    "So suppose you already have a model, but you are unsure about the implications of its parameters. You can write it using PreliZ distributions and put it inside a function with the arguments being the parameters you want to explore."
   ]
  },
  {
   "cell_type": "code",
   "execution_count": 8,
   "id": "9d697456",
   "metadata": {},
   "outputs": [],
   "source": [
    "x = np.linspace(0, 1, 100)\n",
    "\n",
    "def a_preliz_model(a_mu, a_sigma, c_sigma=1):\n",
    "    a = pz.Normal(a_mu, a_sigma).rvs()\n",
    "    c = pz.Gamma(mu=2, sigma=c_sigma).rvs()\n",
    "    a = np.exp(a)\n",
    "    b = pz.Normal(a*x, c).rvs()\n",
    "    return b"
   ]
  },
  {
   "cell_type": "markdown",
   "id": "237874e0",
   "metadata": {},
   "source": [
    "By calling `predictive_sliders` you will get sliders with some default initial values and ranges for you to explore"
   ]
  },
  {
   "cell_type": "code",
   "execution_count": 10,
   "id": "8c708a5c",
   "metadata": {},
   "outputs": [
    {
     "data": {
      "application/vnd.jupyter.widget-view+json": {
       "model_id": "16ad562af4e84ee08940f38a316404b3",
       "version_major": 2,
       "version_minor": 0
      },
      "text/plain": [
       "interactive(children=(FloatSlider(value=0.0, continuous_update=False, description='a_mu (-inf, inf)', max=10.0…"
      ]
     },
     "metadata": {},
     "output_type": "display_data"
    }
   ],
   "source": [
    "pz.predictive_sliders(a_preliz_model)"
   ]
  },
  {
   "attachments": {},
   "cell_type": "markdown",
   "id": "8e8f6bbd",
   "metadata": {},
   "source": [
    "(prior_predictive_assistant)=\n",
    "\n",
    "## Prior predictive assistant\n",
    "\n",
    "Now we will see a vert experimental tool called \"prior predictive assistant\" (ppa for short).\n",
    "\n",
    "Suppose we have a very simple model here expressed using PyMC syntax (in the future we will be able to express the model using just PreliZ):\n",
    "\n",
    "```python\n",
    "with pm.Model() as model:\n",
    "    a = pm.Normal(\"a\", 0, 10)\n",
    "    b = pm.HalfNormal(\"b\", 10)\n",
    "    y = pm.Normal(\"y\", a, b, observed=data)\n",
    "    pp_samples = pm.sample_prior_predictive(500)\n",
    "```\n",
    "\n",
    "`pp_samples` contains samples from the prior and prior predictive distributions. The `ppa` function takes those samples and the PyMC `model` and return a 3x3 panel of predictive distributions that the user can select by clicking on them. The user is expected to select those distributions that best match their domain knowledge (i.e. prior information and NOT the observed data they want to fit). Once the user has selected at least one distribution is has two options click on the `carry on` button to get a new subset of predictive distributions or click on the `return prior` button to get a prior that agrees with all the selected predictive distributions. Currently `ppa` is restricted to return prior on the same family as specified in the `model`, in this example the prior for `a` will always be `Normal` and the prior for b `HalfNormal`. We are currently exploring the possibility to return families different from those specified in the original model.\n",
    "\n",
    "\n",
    "![ppa](ppa.gif)"
   ]
  }
 ],
 "metadata": {
  "kernelspec": {
   "display_name": "Python 3 (ipykernel)",
   "language": "python",
   "name": "python3"
  },
  "language_info": {
   "codemirror_mode": {
    "name": "ipython",
    "version": 3
   },
   "file_extension": ".py",
   "mimetype": "text/x-python",
   "name": "python",
   "nbconvert_exporter": "python",
   "pygments_lexer": "ipython3",
   "version": "3.9.0 (default, Nov 15 2020, 14:28:56) \n[GCC 7.3.0]"
  },
  "vscode": {
   "interpreter": {
    "hash": "5b344a7d0839c309585d2ae27435157813d3b4ade1fa431f12bd272ea9135317"
   }
  }
 },
 "nbformat": 4,
 "nbformat_minor": 5
}
