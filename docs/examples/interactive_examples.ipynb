{
 "cells": [
  {
   "cell_type": "markdown",
   "id": "57b77d9c",
   "metadata": {},
   "source": [
    "# Interactive PreliZ examples\n",
    "\n",
    "\n",
    "The examples below can be executed from within this page thanks to embedded integration with Binder via Thebe.\n",
    "Click on the button below and start playing with PreliZ right from your browser!\n",
    "\n",
    ":::{thebe-button}\n",
    ":::"
   ]
  },
  {
   "cell_type": "code",
   "execution_count": 1,
   "id": "7bc77dc5",
   "metadata": {},
   "outputs": [],
   "source": [
    "import preliz as pz"
   ]
  },
  {
   "cell_type": "markdown",
   "id": "01ca06a2",
   "metadata": {},
   "source": [
    "(roulette_interactive)=\n",
    "# `preliz.roulette`"
   ]
  },
  {
   "cell_type": "code",
   "execution_count": 2,
   "id": "567f49c0",
   "metadata": {},
   "outputs": [
    {
     "data": {
      "text/plain": [
       "<scipy.stats._distn_infrastructure.rv_frozen at 0x7f960e6685e0>"
      ]
     },
     "execution_count": 2,
     "metadata": {},
     "output_type": "execute_result"
    }
   ],
   "source": [
    "pz.roulette()"
   ]
  },
  {
   "cell_type": "code",
   "execution_count": null,
   "id": "9d52f49f",
   "metadata": {},
   "outputs": [],
   "source": []
  }
 ],
 "metadata": {
  "kernelspec": {
   "display_name": "Python 3 (ipykernel)",
   "language": "python",
   "name": "python3"
  },
  "language_info": {
   "codemirror_mode": {
    "name": "ipython",
    "version": 3
   },
   "file_extension": ".py",
   "mimetype": "text/x-python",
   "name": "python",
   "nbconvert_exporter": "python",
   "pygments_lexer": "ipython3",
   "version": "3.9.10"
  }
 },
 "nbformat": 4,
 "nbformat_minor": 5
}
