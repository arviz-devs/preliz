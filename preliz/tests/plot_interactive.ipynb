{
 "cells": [
  {
   "cell_type": "code",
   "execution_count": null,
   "id": "81849101",
   "metadata": {},
   "outputs": [],
   "source": [
    "import pytest\n",
    "import ipytest\n",
    "ipytest.autoconfig()\n",
    "\n",
    "from preliz.distributions import Poisson, Normal"
   ]
  },
  {
   "cell_type": "code",
   "execution_count": null,
   "id": "1630c205",
   "metadata": {},
   "outputs": [],
   "source": [
    "%%ipytest\n",
    "\n",
    "@pytest.mark.parametrize(\"kind,fixed_lim,pointinterval,quantiles\", [\n",
    "    (\"pdf\", \"both\", True, None),\n",
    "    (\"cdf\", \"auto\", False, None),\n",
    "    (\"ppf\", (None, None, None, None), True, [0.1, 0.5, 0.9]),\n",
    "    (\"pdf\", \"both\", False, [])\n",
    "])\n",
    "def test_plot_interactive(kind, fixed_lim, pointinterval, quantiles):\n",
    "    result = Poisson().plot_interactive(kind, fixed_lim, pointinterval, quantiles)\n",
    "    result._ipython_display_()\n",
    "    result.children[0].value = 5\n",
    "\n",
    "    result = Normal(0, 1).plot_interactive(kind, fixed_lim, pointinterval, quantiles) \n",
    "    result.children[0].value = -1\n",
    "    result.children[1].value = 5"
   ]
  }
 ],
 "metadata": {
  "kernelspec": {
   "display_name": "test",
   "language": "python",
   "name": "python3"
  },
  "language_info": {
   "codemirror_mode": {
    "name": "ipython",
    "version": 3
   },
   "file_extension": ".py",
   "mimetype": "text/x-python",
   "name": "python",
   "nbconvert_exporter": "python",
   "pygments_lexer": "ipython3",
   "version": "3.9.0 (default, Nov 15 2020, 14:28:56) \n[GCC 7.3.0]"
  },
  "vscode": {
   "interpreter": {
    "hash": "5b344a7d0839c309585d2ae27435157813d3b4ade1fa431f12bd272ea9135317"
   }
  }
 },
 "nbformat": 4,
 "nbformat_minor": 5
}
