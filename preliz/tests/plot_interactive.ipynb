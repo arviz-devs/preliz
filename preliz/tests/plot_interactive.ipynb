{
 "cells": [
  {
   "cell_type": "code",
   "execution_count": 1,
   "id": "81849101",
   "metadata": {},
   "outputs": [],
   "source": [
    "import ipytest\n",
    "import pytest\n",
    "ipytest.autoconfig()\n",
    "\n",
    "import preliz as pz"
   ]
  },
  {
   "cell_type": "code",
   "execution_count": 2,
   "id": "1630c205",
   "metadata": {},
   "outputs": [
    {
     "data": {
      "application/vnd.jupyter.widget-view+json": {
       "model_id": "fe1d483fb663406497fd7556c010dad0",
       "version_major": 2,
       "version_minor": 0
      },
      "text/plain": [
       "interactive(children=(FloatSlider(value=3.0, description='mu-1 (-inf, inf)', max=13.0, min=-7.0, style=SliderS…"
      ]
     },
     "execution_count": 2,
     "metadata": {},
     "output_type": "execute_result"
    },
    {
     "name": "stdout",
     "output_type": "stream",
     "text": [
      "\n"
     ]
    }
   ],
   "source": [
    "%%ipytest -qq\n",
    "\n",
    "@pytest.mark.parametrize(\"kind,xy_lim,pointinterval,quantiles\", [\n",
    "    (\"pdf\", \"both\", True, None),\n",
    "    (\"cdf\", \"auto\", False, None),\n",
    "    (\"ppf\", (None, None, None, None), True, [0.1, 0.5, 0.9]),\n",
    "    (\"pdf\", \"both\", False, [])\n",
    "])\n",
    "def test_plot_interactive(kind, xy_lim, pointinterval, quantiles):\n",
    "    result = pz.Poisson().plot_interactive(kind, xy_lim, pointinterval, quantiles)\n",
    "    assert result.children[0].value == 4.5\n",
    "\n",
    "    result = pz.Normal(0, 1).plot_interactive(kind, xy_lim, pointinterval, quantiles) \n",
    "    assert result.children[0].value == 0\n",
    "    assert result.children[1].value == 1\n",
    "\n",
    "    result = pz.Truncated(pz.Normal(0, 2), -1, 1).plot_interactive(kind, xy_lim, pointinterval, quantiles)\n",
    "    assert result.children[0].value == 0\n",
    "    assert result.children[3].value == 1\n",
    "\n",
    "    result = pz.Hurdle(pz.Normal(0, 2), 0.9).plot_interactive(kind, xy_lim, pointinterval, quantiles)\n",
    "    assert result.children[1].value == 2\n",
    "    assert result.children[2].value == 0.9\n",
    "\n",
    "\n",
    "@pytest.mark.parametrize(\n",
    "    \"kwargs\",\n",
    "    [\n",
    "        {},\n",
    "        {\"xy_lim\": \"auto\"},\n",
    "        {\"pointinterval\": True, \"xy_lim\": \"auto\"},\n",
    "        {\"pointinterval\": True, \"levels\": [0.1, 0.9], \"xy_lim\": \"both\"},\n",
    "        {\"pointinterval\": True, \"interval\": \"eti\", \"levels\": [0.9], \"xy_lim\": (0.3, 0.9, None, 1)},\n",
    "        {\"pointinterval\": True, \"interval\": \"quantiles\", \"xy_lim\": \"both\"},\n",
    "        {\"pointinterval\": True, \"interval\": \"quantiles\", \"levels\": [0.1, 0.5, 0.9]},\n",
    "        {\"pointinterval\": False, \"figsize\": (4, 4)},\n",
    "    ],\n",
    ")\n",
    "\n",
    "def test_plot_interactive_mvnormal(kwargs):\n",
    "    mvnormal_tau = pz.MvNormal(mu=[-1, 2.4], tau=[[1, 0], [1, 1]])\n",
    "    mvnormal_cov = pz.MvNormal(mu=[3, -2], cov=[[1, 0], [0, 1]])\n",
    "    mvnormal_tau.plot_interactive(kind=\"pdf\", **kwargs)\n",
    "    mvnormal_cov.plot_interactive(kind=\"pdf\", **kwargs)\n",
    "    mvnormal_tau.plot_interactive(kind=\"cdf\", **kwargs)\n",
    "    mvnormal_cov.plot_interactive(kind=\"cdf\", **kwargs)\n",
    "    mvnormal_tau.plot_interactive(kind=\"ppf\", **kwargs)\n",
    "    mvnormal_cov.plot_interactive(kind=\"ppf\", **kwargs)\n",
    "\n",
    "\n",
    "\n",
    "@pytest.mark.parametrize(\n",
    "    \"kwargs\",\n",
    "    [\n",
    "        {},\n",
    "        {\"xy_lim\": \"auto\"},\n",
    "        {\"pointinterval\": True, \"xy_lim\": \"auto\"},\n",
    "        {\"pointinterval\": True, \"levels\": [0.1, 0.9], \"xy_lim\": \"both\"},\n",
    "        {\"pointinterval\": True, \"interval\": \"eti\", \"levels\": [0.9], \"xy_lim\": (0.3, 0.9, 0.6, 1)},\n",
    "        {\"pointinterval\": True, \"interval\": \"quantiles\", \"xy_lim\": \"both\"},\n",
    "        {\"pointinterval\": True, \"interval\": \"quantiles\", \"levels\": [0.1, 0.5, 0.9]},\n",
    "        {\"pointinterval\": False, \"figsize\": (4, 4)},\n",
    "    ],\n",
    ")\n",
    "def test_plot_interactive_dirichlet(kwargs):\n",
    "    a_dist = pz.Dirichlet([2, 1, 2])\n",
    "    a_dist.plot_interactive(kind=\"pdf\", **kwargs)\n",
    "    a_dist.plot_interactive(kind=\"cdf\", **kwargs)\n",
    "    a_dist.plot_interactive(kind=\"ppf\", **kwargs)\n",
    "\n"
   ]
  },
  {
   "cell_type": "code",
   "execution_count": null,
   "id": "b57f808a",
   "metadata": {},
   "outputs": [],
   "source": []
  }
 ],
 "metadata": {
  "kernelspec": {
   "display_name": "preliz",
   "language": "python",
   "name": "python3"
  },
  "language_info": {
   "codemirror_mode": {
    "name": "ipython",
    "version": 3
   },
   "file_extension": ".py",
   "mimetype": "text/x-python",
   "name": "python",
   "nbconvert_exporter": "python",
   "pygments_lexer": "ipython3",
   "version": "3.11.8"
  }
 },
 "nbformat": 4,
 "nbformat_minor": 5
}
