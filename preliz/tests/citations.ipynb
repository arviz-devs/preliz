{
 "cells": [
  {
   "cell_type": "code",
   "execution_count": 1,
   "id": "91872fbb-c043-4458-a939-29dc3d232d37",
   "metadata": {},
   "outputs": [],
   "source": [
    "%matplotlib widget\n",
    "import ipytest\n",
    "import pytest\n",
    "\n",
    "ipytest.autoconfig()\n",
    "\n",
    "import preliz as pz"
   ]
  },
  {
   "cell_type": "code",
   "execution_count": 2,
   "id": "7bbe59ee-f86d-4dfa-8780-93c97249e07e",
   "metadata": {},
   "outputs": [
    {
     "data": {
      "text/markdown": [
       "```bibtex\n",
       "@software{PreliZ,\n",
       "    author    = {Icazatti, Alejandro and\n",
       "                 Babbar, Rohan and\n",
       "                 Abril-Pla, Oriol and\n",
       "                 Klami, Arto and\n",
       "                 Martin, Osvaldo A},\n",
       "    title     = {PreliZ: A tool-box for prior elicitation},\n",
       "    month     = jan,\n",
       "    year      = 2025,\n",
       "    publisher = {Zenodo},\n",
       "    version   = {0.15.0},\n",
       "    doi       = {10.5281/zenodo.14619053},\n",
       "    url       = {https://doi.org/10.5281/zenodo.14619053},\n",
       "    swhid     = {swh:1:dir:755ff7ec1b224eb9473d5f58ef1c76bf10c2e807;\n",
       "                 origin=https://doi.org/10.5281/zenodo.8368035;\n",
       "                 visit=swh:1:snp:ce9432267312af4e0473c1987e3c1a54bb05de23;\n",
       "                 anchor=swh:1:rel:9284f4998394356b01ad93de1caa5b11a4c07e3c;\n",
       "                 path=arviz-devs-preliz-f2bb948}\n",
       "}\n",
       "@article{Icazatti2023,\n",
       "    author = {Icazatti, Alejandro and Abril-Pla, Oriol and Klami, Arto and Martin, Osvaldo A},\n",
       "    doi = {10.21105/joss.05499},\n",
       "    journal = {Journal of Open Source Software},\n",
       "    month = sep,\n",
       "    number = {89},\n",
       "    pages = {5499},\n",
       "    title = {{PreliZ: A tool-box for prior elicitation}},\n",
       "    url = {https://joss.theoj.org/papers/10.21105/joss.05499},\n",
       "    volume = {8},\n",
       "    year = {2023}\n",
       "}\n",
       "```"
      ],
      "text/plain": [
       "<IPython.core.display.Markdown object>"
      ]
     },
     "metadata": {},
     "output_type": "display_data"
    },
    {
     "name": "stdout",
     "output_type": "stream",
     "text": [
      "\u001b[32m.\u001b[0m"
     ]
    },
    {
     "data": {
      "text/markdown": [
       "```bibtex\n",
       "@article{Morris2014,\n",
       "    title = {A web-based tool for eliciting probability distributions from experts},\n",
       "    journal = {Environmental Modelling & Software},\n",
       "    volume = {52},\n",
       "    pages = {1-4},\n",
       "    year = {2014},\n",
       "    issn = {1364-8152},\n",
       "    doi = {https://doi.org/10.1016/j.envsoft.2013.10.010},\n",
       "    url = {https://www.sciencedirect.com/science/article/pii/S1364815213002533},\n",
       "    author = {David E. Morris and Jeremy E. Oakley and John A. Crowe},\n",
       "    keywords = {Bayesian prior distribution, Expert judgement, Subjective probability, Web-based elicitation},\n",
       "    abstract = {We present a web-based probability distribution elicitation tool: The MATCH Uncertainty Elicitation Tool. The Tool is designed to help elicit probability distributions about uncertain model parameters from experts, in situations where suitable data is either unavailable or sparse. The Tool is free to use, and offers five different techniques for eliciting univariate probability distributions. A key feature of the Tool is that users can log in from different sites and view and interact with the same graphical displays, so that expert elicitation sessions can be conducted remotely (in conjunction with tele- or videoconferencing). This will make probability elicitation easier in situations where it is difficult to interview experts in person. Even when conducting elicitation remotely, interviewers will be able to follow good elicitation practice, advise the experts, and provide instantaneous feedback and assistance.}\n",
       "}\n",
       "@Article{Michael2017,\n",
       "    AUTHOR = {Evans, Michael and Guttman, Irwin and Li, Peiying},\n",
       "    TITLE = {Prior Elicitation, Assessment and Inference with a Dirichlet Prior},\n",
       "    JOURNAL = {Entropy},\n",
       "    VOLUME = {19},\n",
       "    YEAR = {2017},\n",
       "    NUMBER = {10},\n",
       "    ARTICLE-NUMBER = {564},\n",
       "    URL = {https://www.mdpi.com/1099-4300/19/10/564},\n",
       "    ISSN = {1099-4300},\n",
       "    ABSTRACT = {Methods are developed for eliciting a Dirichlet prior based upon stating bounds on the individual probabilities that hold with high prior probability. This approach to selecting a prior is applied to a contingency table problem where it is demonstrated how to assess the prior with respect to the bias it induces as well as how to check for prior-data conflict. It is shown that the assessment of a hypothesis via relative belief can easily take into account what it means for the falsity of the hypothesis to correspond to a difference of practical importance and provide evidence in favor of a hypothesis.},\n",
       "    DOI = {10.3390/e19100564}\n",
       "}\n",
       "```"
      ],
      "text/plain": [
       "<IPython.core.display.Markdown object>"
      ]
     },
     "metadata": {},
     "output_type": "display_data"
    },
    {
     "name": "stdout",
     "output_type": "stream",
     "text": [
      "\u001b[32m.\u001b[0m\u001b[32m                                                                                           [100%]\u001b[0m\n",
      "\u001b[32m\u001b[32m\u001b[1m2 passed\u001b[0m\u001b[32m in 0.03s\u001b[0m\u001b[0m\n"
     ]
    }
   ],
   "source": [
    "%%ipytest\n",
    "\n",
    "@pytest.mark.parametrize(\n",
    "    \"methods, show_as\", [(None, \"bibtex\"), ([pz.Roulette, pz.dirichlet_mode], \"bibtex\")]\n",
    ")\n",
    "def test_citations(methods, show_as):\n",
    "    pz.citations(methods, show_as)"
   ]
  }
 ],
 "metadata": {
  "kernelspec": {
   "display_name": "Python 3 (ipykernel)",
   "language": "python",
   "name": "python3"
  },
  "language_info": {
   "codemirror_mode": {
    "name": "ipython",
    "version": 3
   },
   "file_extension": ".py",
   "mimetype": "text/x-python",
   "name": "python",
   "nbconvert_exporter": "python",
   "pygments_lexer": "ipython3",
   "version": "3.11.5"
  },
  "widgets": {
   "application/vnd.jupyter.widget-state+json": {
    "state": {},
    "version_major": 2,
    "version_minor": 0
   }
  }
 },
 "nbformat": 4,
 "nbformat_minor": 5
}
