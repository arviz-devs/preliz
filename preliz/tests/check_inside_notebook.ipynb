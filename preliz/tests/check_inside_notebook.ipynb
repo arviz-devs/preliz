{
 "cells": [
  {
   "cell_type": "code",
   "execution_count": 1,
   "id": "81849101",
   "metadata": {},
   "outputs": [],
   "source": [
    "import pytest\n",
    "import ipytest\n",
    "ipytest.autoconfig()\n",
    "import sys\n",
    "\n",
    "from preliz.internal.plot_helper import check_inside_notebook"
   ]
  },
  {
   "cell_type": "code",
   "execution_count": 2,
   "id": "1630c205",
   "metadata": {},
   "outputs": [
    {
     "name": "stdout",
     "output_type": "stream",
     "text": [
      "\u001b[32m.\u001b[0m\u001b[32m                                                                                            [100%]\u001b[0m\n",
      "\u001b[32m\u001b[32m\u001b[1m1 passed\u001b[0m\u001b[32m in 0.01s\u001b[0m\u001b[0m\n"
     ]
    }
   ],
   "source": [
    "%%ipytest\n",
    "\n",
    "def test_ok(capsys):\n",
    "    check_inside_notebook()\n",
    "    captured = capsys.readouterr()\n",
    "    assert \"\" == captured.out"
   ]
  },
  {
   "cell_type": "code",
   "execution_count": 3,
   "id": "843a0c94",
   "metadata": {},
   "outputs": [
    {
     "name": "stdout",
     "output_type": "stream",
     "text": [
      "\u001b[32m.\u001b[0m\u001b[32m                                                                                            [100%]\u001b[0m\n",
      "\u001b[32m\u001b[32m\u001b[1m1 passed\u001b[0m\u001b[32m in 0.01s\u001b[0m\u001b[0m\n"
     ]
    }
   ],
   "source": [
    "%%ipytest\n",
    "\n",
    "def test_widget_fail(capsys):\n",
    "    check_inside_notebook(need_widget=True)\n",
    "    captured = capsys.readouterr()\n",
    "    assert \"widget\" in captured.out\n"
   ]
  }
 ],
 "metadata": {
  "kernelspec": {
   "display_name": "preliz",
   "language": "python",
   "name": "python3"
  },
  "language_info": {
   "codemirror_mode": {
    "name": "ipython",
    "version": 3
   },
   "file_extension": ".py",
   "mimetype": "text/x-python",
   "name": "python",
   "nbconvert_exporter": "python",
   "pygments_lexer": "ipython3",
   "version": "3.11.8"
  }
 },
 "nbformat": 4,
 "nbformat_minor": 5
}
