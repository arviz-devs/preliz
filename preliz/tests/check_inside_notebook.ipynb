{
 "cells": [
  {
   "cell_type": "code",
   "execution_count": null,
   "id": "81849101",
   "metadata": {},
   "outputs": [],
   "source": [
    "import pytest\n",
    "import ipytest\n",
    "ipytest.autoconfig()\n",
    "import sys\n",
    "\n",
    "from preliz.internal.plot_helper import check_inside_notebook"
   ]
  },
  {
   "cell_type": "code",
   "execution_count": null,
   "id": "1630c205",
   "metadata": {},
   "outputs": [],
   "source": [
    "%%ipytest\n",
    "\n",
    "def test_ok(capsys):\n",
    "    check_inside_notebook()\n",
    "    captured = capsys.readouterr()\n",
    "    assert \"\" == captured.out"
   ]
  },
  {
   "cell_type": "code",
   "execution_count": null,
   "id": "843a0c94",
   "metadata": {},
   "outputs": [],
   "source": [
    "%%ipytest\n",
    "\n",
    "def test_widget_fail(capsys):\n",
    "    check_inside_notebook(need_widget=True)\n",
    "    captured = capsys.readouterr()\n",
    "    assert \"widget\" in captured.out\n"
   ]
  },
  {
   "cell_type": "code",
   "execution_count": null,
   "id": "a57cc174",
   "metadata": {},
   "outputs": [],
   "source": [
    "%%ipytest\n",
    "%matplotlib widget\n",
    "def test_widget_ok(capsys):\n",
    "    check_inside_notebook(need_widget=True)\n",
    "    captured = capsys.readouterr()\n",
    "    assert \"\" == captured.out"
   ]
  }
 ],
 "metadata": {
  "kernelspec": {
   "display_name": "test",
   "language": "python",
   "name": "python3"
  },
  "language_info": {
   "codemirror_mode": {
    "name": "ipython",
    "version": 3
   },
   "file_extension": ".py",
   "mimetype": "text/x-python",
   "name": "python",
   "nbconvert_exporter": "python",
   "pygments_lexer": "ipython3",
   "version": "3.9.0 (default, Nov 15 2020, 14:28:56) \n[GCC 7.3.0]"
  },
  "vscode": {
   "interpreter": {
    "hash": "5b344a7d0839c309585d2ae27435157813d3b4ade1fa431f12bd272ea9135317"
   }
  }
 },
 "nbformat": 4,
 "nbformat_minor": 5
}
