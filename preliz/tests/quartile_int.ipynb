{
 "cells": [
  {
   "cell_type": "code",
   "execution_count": 1,
   "id": "81849101",
   "metadata": {},
   "outputs": [],
   "source": [
    "%matplotlib widget\n",
    "import pytest\n",
    "import ipytest\n",
    "ipytest.autoconfig()\n",
    "\n",
    "from preliz import quartile_int"
   ]
  },
  {
   "cell_type": "code",
   "execution_count": 2,
   "id": "1630c205",
   "metadata": {},
   "outputs": [],
   "source": [
    "%%ipytest\n",
    "\n",
    "@pytest.mark.parametrize(\"q1, q2, q3, dist_names, figsize\", [\n",
    "    (1, 2, 3, None, None),  # Test default behavior\n",
    "    (-1, 2, 3, [\"Poisson\", \"Normal\"], None),  # Test custom list of distributions\n",
    "    (-1, 2, 3, None, (10, 8)),  # Test custom figsize\n",
    "])\n",
    "def test_quartile_int(q1, q2, q3, dist_names, figsize):\n",
    "    quartile_int(q1, q2, q3, dist_names, figsize)"
   ]
  }
 ],
 "metadata": {
  "kernelspec": {
   "display_name": "test",
   "language": "python",
   "name": "python3"
  },
  "language_info": {
   "codemirror_mode": {
    "name": "ipython",
    "version": 3
   },
   "file_extension": ".py",
   "mimetype": "text/x-python",
   "name": "python",
   "nbconvert_exporter": "python",
   "pygments_lexer": "ipython3",
   "version": "3.9.0"
  },
  "vscode": {
   "interpreter": {
    "hash": "5b344a7d0839c309585d2ae27435157813d3b4ade1fa431f12bd272ea9135317"
   }
  }
 },
 "nbformat": 4,
 "nbformat_minor": 5
}
