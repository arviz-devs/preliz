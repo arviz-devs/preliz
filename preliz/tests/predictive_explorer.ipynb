{
 "cells": [
  {
   "cell_type": "code",
   "execution_count": null,
   "id": "81849101",
   "metadata": {},
   "outputs": [],
   "source": [
    "%matplotlib inline\n",
    "import pytest\n",
    "import ipytest\n",
    "ipytest.autoconfig()\n",
    "\n",
    "import numpy as np\n",
    "import arviz as az\n",
    "import pymc as pm\n",
    "import pandas as pd\n",
    "import bambi as bmb\n",
    "\n",
    "from preliz.distributions import Normal, Gamma\n",
    "from preliz import predictive_explorer"
   ]
  },
  {
   "cell_type": "code",
   "execution_count": null,
   "id": "1630c205",
   "metadata": {},
   "outputs": [],
   "source": [
    "%%ipytest\n",
    "\n",
    "x = np.linspace(0, 1, 100)\n",
    "\n",
    "@pytest.fixture\n",
    "def model():\n",
    "    def a_preliz_model(a_mu, a_sigma, c_sigma=1):\n",
    "        a = Normal(a_mu, a_sigma).rvs()\n",
    "        c = Gamma(mu=2, sigma=c_sigma).rvs()\n",
    "        a = np.exp(a)\n",
    "        b = Normal(a*x, c).rvs()\n",
    "        return b\n",
    "    return a_preliz_model\n",
    "\n",
    "@pytest.mark.parametrize(\"iterations, kind_plot\", [\n",
    "    (50, \"hist\"),\n",
    "    (10, \"kde\"),\n",
    "    (10, \"ecdf\"),\n",
    "])\n",
    "def test_predictive_explorer(model, iterations, kind_plot):\n",
    "    predictive_explorer(model, iterations, kind_plot)\n",
    "\n",
    "def lin_reg(predictions, ax):\n",
    "    ax.plot(x, predictions.T, \"k.\")\n",
    "\n",
    "def test_predictive_explorer_custom_plot(model):\n",
    "    predictive_explorer(model, 50, plot_func=lin_reg)\n",
    "    "
   ]
  },
  {
   "cell_type": "code",
   "execution_count": null,
   "id": "e006886c",
   "metadata": {},
   "outputs": [],
   "source": [
    "%%ipytest\n",
    "\n",
    "@pytest.fixture\n",
    "def model():\n",
    "    def a_pymc_model(a_mu, b_sigma=1):\n",
    "        with pm.Model() as model:\n",
    "            a = pm.Normal(\"a\", a_mu, 1)\n",
    "            b = pm.HalfNormal(\"b\", b_sigma)\n",
    "            c = pm.Normal(\"c\", a, b, observed=[0]*100)\n",
    "        return model\n",
    "    return a_pymc_model\n",
    "        \n",
    "        \n",
    "@pytest.mark.parametrize(\"iterations, kind_plot\", [\n",
    "    (50, \"hist\"),\n",
    "    (10, \"kde\"),\n",
    "    (10, \"ecdf\"),\n",
    "])\n",
    "def test_predictive_explorer(model, iterations, kind_plot):\n",
    "    predictive_explorer(model, iterations, kind_plot, engine=\"pymc\")"
   ]
  },
  {
   "cell_type": "code",
   "execution_count": null,
   "id": "7ffa022a",
   "metadata": {},
   "outputs": [],
   "source": [
    "%%ipytest\n",
    "\n",
    "data = pd.DataFrame(\n",
    "    {\n",
    "        \"y\": np.random.normal(size=117),\n",
    "        \"x\": np.random.normal(size=117),\n",
    "    }\n",
    ")\n",
    "data.head()\n",
    "\n",
    "@pytest.fixture\n",
    "def model():\n",
    "    def a_bambi_model(a_mu, b_sigma=1):\n",
    "        prior = {\"Intercept\": bmb.Prior(\"Normal\", mu=a_mu, sigma=b_sigma)}\n",
    "        a_model = bmb.Model(\"y ~ x\", data, priors=prior)\n",
    "        return a_model\n",
    "    return a_bambi_model\n",
    "    \n",
    "@pytest.mark.parametrize(\"iterations, kind_plot\", [\n",
    "    (50, \"hist\"),\n",
    "    (10, \"kde\"),\n",
    "    (10, \"ecdf\"),\n",
    "])\n",
    "def test_predictive_explorer(model, iterations, kind_plot):\n",
    "    predictive_explorer(model, iterations, kind_plot)"
   ]
  },
  {
   "cell_type": "code",
   "execution_count": null,
   "id": "675608f1",
   "metadata": {},
   "outputs": [],
   "source": []
  }
 ],
 "metadata": {
  "kernelspec": {
   "display_name": "test",
   "language": "python",
   "name": "python3"
  },
  "language_info": {
   "codemirror_mode": {
    "name": "ipython",
    "version": 3
   },
   "file_extension": ".py",
   "mimetype": "text/x-python",
   "name": "python",
   "nbconvert_exporter": "python",
   "pygments_lexer": "ipython3",
   "version": "3.9.0"
  },
  "vscode": {
   "interpreter": {
    "hash": "5b344a7d0839c309585d2ae27435157813d3b4ade1fa431f12bd272ea9135317"
   }
  }
 },
 "nbformat": 4,
 "nbformat_minor": 5
}
