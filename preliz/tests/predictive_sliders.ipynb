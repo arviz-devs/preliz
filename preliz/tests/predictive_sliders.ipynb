{
 "cells": [
  {
   "cell_type": "code",
   "execution_count": null,
   "id": "81849101",
   "metadata": {},
   "outputs": [],
   "source": [
    "%matplotlib inline\n",
    "import pytest\n",
    "import ipytest\n",
    "ipytest.autoconfig()\n",
    "\n",
    "import numpy as np\n",
    "import arviz as az\n",
    "from preliz.distributions import Normal, Gamma\n",
    "from preliz import predictive_sliders"
   ]
  },
  {
   "cell_type": "code",
   "execution_count": null,
   "id": "1630c205",
   "metadata": {},
   "outputs": [],
   "source": [
    "%%ipytest\n",
    "\n",
    "x = np.linspace(0, 1, 100)\n",
    "\n",
    "@pytest.fixture\n",
    "def model():\n",
    "    def a_preliz_model(a_mu, a_sigma, c_sigma=1):\n",
    "        a = Normal(a_mu, a_sigma).rvs()\n",
    "        c = Gamma(mu=2, sigma=c_sigma).rvs()\n",
    "        a = np.exp(a)\n",
    "        b = Normal(a*x, c).rvs()\n",
    "        return b\n",
    "    return a_preliz_model\n",
    "\n",
    "@pytest.mark.parametrize(\"iterations, kind_plot\", [\n",
    "    (50, \"hist\"),\n",
    "    (10, \"kde\"),\n",
    "    (10, \"ecdf\"),\n",
    "])\n",
    "def test_predictive_sliders(model, iterations, kind_plot):\n",
    "    result = predictive_sliders(model, iterations, kind_plot)\n",
    "    result._ipython_display_()\n",
    "    slider0, slider1, slider2, plot_data = result.children\n",
    "    slider0.value = -4\n",
    "    slider1.value = 0.3\n",
    "    slider2[2].value = 0.1\n",
    "    assert 'image/png' in plot_data.outputs[0][\"data\"]"
   ]
  },
  {
   "cell_type": "code",
   "execution_count": null,
   "id": "e006886c",
   "metadata": {},
   "outputs": [],
   "source": []
  }
 ],
 "metadata": {
  "kernelspec": {
   "display_name": "test",
   "language": "python",
   "name": "python3"
  },
  "language_info": {
   "codemirror_mode": {
    "name": "ipython",
    "version": 3
   },
   "file_extension": ".py",
   "mimetype": "text/x-python",
   "name": "python",
   "nbconvert_exporter": "python",
   "pygments_lexer": "ipython3",
   "version": "3.9.0"
  },
  "vscode": {
   "interpreter": {
    "hash": "5b344a7d0839c309585d2ae27435157813d3b4ade1fa431f12bd272ea9135317"
   }
  }
 },
 "nbformat": 4,
 "nbformat_minor": 5
}
