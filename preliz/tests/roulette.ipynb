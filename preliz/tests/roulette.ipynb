{
 "cells": [
  {
   "cell_type": "code",
   "execution_count": null,
   "id": "81849101",
   "metadata": {},
   "outputs": [],
   "source": [
    "import pytest\n",
    "import ipytest\n",
    "ipytest.autoconfig()\n",
    "\n",
    "from preliz import roulette"
   ]
  },
  {
   "cell_type": "code",
   "execution_count": null,
   "id": "1630c205",
   "metadata": {},
   "outputs": [],
   "source": [
    "%%ipytest\n",
    "\n",
    "@pytest.mark.parametrize(\"x_min, x_max, nrows, ncols, figsize\", [\n",
    "    (0, 10, 10, 10, None),  # Test default behavior\n",
    "    (-5, 5, 10, 10, None),  # Test different domain\n",
    "    (0, 10, 5, 5, None),  # Test different grid dimensions\n",
    "    (0, 10, 10, 10, (10, 8)),  # Test custom figsize\n",
    "])\n",
    "def test_roulette(x_min, x_max, nrows, ncols, figsize):\n",
    "    roulette(x_min, x_max, nrows, ncols, figsize)"
   ]
  }
 ],
 "metadata": {
  "kernelspec": {
   "display_name": "Python 3 (ipykernel)",
   "language": "python",
   "name": "python3"
  },
  "language_info": {
   "codemirror_mode": {
    "name": "ipython",
    "version": 3
   },
   "file_extension": ".py",
   "mimetype": "text/x-python",
   "name": "python",
   "nbconvert_exporter": "python",
   "pygments_lexer": "ipython3",
   "version": "3.9.0"
  }
 },
 "nbformat": 4,
 "nbformat_minor": 5
}
