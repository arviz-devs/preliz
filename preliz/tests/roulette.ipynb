{
 "cells": [
  {
   "cell_type": "code",
   "execution_count": 1,
   "id": "81849101",
   "metadata": {},
   "outputs": [],
   "source": [
    "%matplotlib widget\n",
    "import pytest\n",
    "import ipytest\n",
    "ipytest.autoconfig()\n",
    "\n",
    "from preliz import roulette"
   ]
  },
  {
   "cell_type": "code",
   "execution_count": 2,
   "id": "1630c205",
   "metadata": {},
   "outputs": [],
   "source": [
    "%%ipytest\n",
    "\n",
    "@pytest.mark.parametrize(\"x_min, x_max, nrows, ncols, figsize\", [\n",
    "    (0, 10, 10, 10, None),  # Test default behavior\n",
    "    (-5, 5, 10, 10, None),  # Test different domain\n",
    "    (0, 10, 5, 5, None),  # Test different grid dimensions\n",
    "    (0, 10, 10, 10, (10, 8)),  # Test custom figsize\n",
    "])\n",
    "def test_roulette(x_min, x_max, nrows, ncols, figsize):\n",
    "    roulette(x_min, x_max, nrows, ncols, figsize)"
   ]
  }
 ],
 "metadata": {
  "kernelspec": {
   "display_name": "test",
   "language": "python",
   "name": "python3"
  },
  "language_info": {
   "codemirror_mode": {
    "name": "ipython",
    "version": 3
   },
   "file_extension": ".py",
   "mimetype": "text/x-python",
   "name": "python",
   "nbconvert_exporter": "python",
   "pygments_lexer": "ipython3",
   "version": "3.9.0"
  },
  "vscode": {
   "interpreter": {
    "hash": "5b344a7d0839c309585d2ae27435157813d3b4ade1fa431f12bd272ea9135317"
   }
  }
 },
 "nbformat": 4,
 "nbformat_minor": 5
}
