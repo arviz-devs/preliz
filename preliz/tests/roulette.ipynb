{
 "cells": [
  {
   "cell_type": "code",
   "execution_count": 1,
   "id": "81849101",
   "metadata": {},
   "outputs": [],
   "source": [
    "%matplotlib widget\n",
    "import pytest\n",
    "import ipytest\n",
    "ipytest.autoconfig()\n",
    "\n",
    "from preliz import Roulette"
   ]
  },
  {
   "cell_type": "code",
   "execution_count": 2,
   "id": "1630c205",
   "metadata": {},
   "outputs": [],
   "source": [
    "@pytest.mark.parametrize(\"x_min, x_max, nrows, ncols, figsize, dist_names, params\", [\n",
    "    (0, 10, 10, 10, None, None, None),  # Test default behavior\n",
    "    (-5, 5, 10, 10, None, None, None),  # Test different domain\n",
    "    (0, 10, 5, 5, None, None, None),  # Test different grid dimensions\n",
    "    (0, 10, 10, 10, (10, 8)),  # Test custom figsize\n",
    "    (0, 10, 10, 10, None, [\"Normal\", \"StudentT\"], \"Normal(mu=0), StudentT(nu=0.001)\"),  # Test custom dist and params\n",
    "])\n",
    "def test_roulette(x_min, x_max, nrows, ncols, figsize):\n",
    "    Roulette(x_min, x_max, nrows, ncols, figsize)"
   ]
  },
  {
   "cell_type": "code",
   "execution_count": null,
   "id": "70ae102b",
   "metadata": {},
   "outputs": [],
   "source": [
    "def test_roulette_initialization():\n",
    "    roulette = Roulette(x_min=0, x_max=10, nrows=10, ncols=11)\n",
    "    assert roulette._x_min == 0\n",
    "    assert roulette._x_max == 10\n",
    "    assert roulette._nrows == 10\n",
    "    assert roulette._ncols == 11\n",
    "    assert roulette._figsize == (8, 6)\n",
    "\n",
    "\n",
    "def test_roulette_update_grid():\n",
    "    roulette = Roulette(x_min=0, x_max=10, nrows=10, ncols=11)\n",
    "    roulette._widgets['w_x_min'].value = 1\n",
    "    roulette._widgets['w_x_max'].value = 9\n",
    "    roulette._widgets['w_nrows'].value = 8\n",
    "    roulette._widgets['w_ncols'].value = 9\n",
    "    roulette._update_grid()\n",
    "    assert roulette._x_min == 1\n",
    "    assert roulette._x_max == 9\n",
    "    assert roulette._nrows == 8\n",
    "    assert roulette._ncols == 9\n",
    "\n",
    "\n",
    "def test_roulette_weights_to_ecdf():\n",
    "    roulette = Roulette(x_min=0, x_max=10, nrows=10, ncols=11)\n",
    "    roulette._grid._weights = {0: 2, 1: 6, 2: 10, 3: 10, 4: 7, 5: 3, 6: 1, 7: 1, 8: 1, 9: 1}\n",
    "    x_vals, cum_sum, probabilities, mean, std, filled_columns = roulette._weights_to_ecdf()\n",
    "    assert len(x_vals) == 10\n",
    "    assert len(cum_sum) == 10\n",
    "    assert len(probabilities) == 10\n",
    "    assert filled_columns == 10\n",
    "\n",
    "\n",
    "def test_roulette_on_leave_fig():\n",
    "    roulette = Roulette(x_min=0, x_max=10, nrows=10, ncols=11)\n",
    "    roulette._grid._weights = {0: 2, 1: 6, 2: 10, 3: 10, 4: 7, 5: 3, 6: 1, 7: 1, 8: 1, 9: 1}\n",
    "    roulette._widgets['w_distributions'].value = [\"Gamma\", \"LogNormal\", \"StudentT\", \"BetaScaled\", \"Normal\"]\n",
    "    roulette._widgets['w_repr'].value = \"pdf\"\n",
    "    roulette._on_leave_fig()\n",
    "    assert roulette.dist is not None\n",
    "    assert roulette.hist is not None"
   ]
  }
 ],
 "metadata": {
  "kernelspec": {
   "display_name": "test",
   "language": "python",
   "name": "python3"
  },
  "language_info": {
   "codemirror_mode": {
    "name": "ipython",
    "version": 3
   },
   "file_extension": ".py",
   "mimetype": "text/x-python",
   "name": "python",
   "nbconvert_exporter": "python",
   "pygments_lexer": "ipython3",
   "version": "3.9.0"
  },
  "vscode": {
   "interpreter": {
    "hash": "5b344a7d0839c309585d2ae27435157813d3b4ade1fa431f12bd272ea9135317"
   }
  }
 },
 "nbformat": 4,
 "nbformat_minor": 5
}
